{
 "cells": [
  {
   "cell_type": "code",
   "execution_count": 1,
   "metadata": {},
   "outputs": [],
   "source": [
    "import os\n",
    "import numpy as np\n",
    "import requests\n",
    "from bs4 import BeautifulSoup\n",
    "from tqdm import tqdm"
   ]
  },
  {
   "cell_type": "markdown",
   "metadata": {},
   "source": [
    "# Function define\n",
    "Most of the commands in this function will be used and explained later."
   ]
  },
  {
   "cell_type": "code",
   "execution_count": 2,
   "metadata": {},
   "outputs": [],
   "source": [
    "def extract_html(url, save_dir, chapter_name):\n",
    "    \"\"\"\n",
    "    Read the url of each chapter;\n",
    "    novel_title as the name of the folder;\n",
    "    chapter_name, extracted from the content page, which will be used to name the article file.\n",
    "    \"\"\"\n",
    "    r=requests.get(url)\n",
    "    r.encoding='utf-8'\n",
    "    soup = BeautifulSoup(r.text)\n",
    "    \n",
    "    # Extract chapter title of the article from this ESJZone page.\n",
    "    title_h2=soup.find_all('h2')[0].get_text()\n",
    "    # Extract the article\n",
    "    content = soup.find('div',attrs={'class': 'forum-content mt-3'})\n",
    "    # Create a html file and write content into the file.\n",
    "    with open('./{}/{}.html'.format(save_dir, chapter_name), 'w', encoding=\"utf-8\") as f:\n",
    "        f.write(title_h2)\n",
    "        f.write(content.__str__())"
   ]
  },
  {
   "cell_type": "markdown",
   "metadata": {},
   "source": [
    "# Use BeautifulSoup to extract the content"
   ]
  },
  {
   "cell_type": "markdown",
   "metadata": {},
   "source": [
    "Past the ESJZone URL here. This URL should be the link of the content page.<br/>\n",
    "把目標小說的目錄頁面網址貼上。"
   ]
  },
  {
   "cell_type": "code",
   "execution_count": 3,
   "metadata": {},
   "outputs": [],
   "source": [
    "url = 'https://www.esjzone.cc/detail/1557379934.html'"
   ]
  },
  {
   "cell_type": "markdown",
   "metadata": {},
   "source": [
    "Use beautiful soup to get the page.<br/>\n",
    "以beautiful soup將網頁的資料讀出。"
   ]
  },
  {
   "cell_type": "code",
   "execution_count": 4,
   "metadata": {},
   "outputs": [
    {
     "data": {
      "text/plain": [
       "<html><body><p>ss=\"toolbar-dropdown\"&gt;\n",
       "</p><li class=\"sub-menu-user\">\n",
       "<div class=\"user-ava\">\n",
       "<img alt=\"\" src=\"/assets/img/nophoto.png?t=1628947229\"/>\n",
       "</div>\n",
       "<div class=\"user-info\">\n",
       "<h6 class=\"user-name\"></h6>\n",
       "<span class=\"text-xs text-exp\">0 EXP</span>\n",
       "<span class=\"text-xs text-exp mem-level\"></span>\n",
       "</div>\n",
       "</li>\n",
       "<li><a href=\"/login.html\">登入 / 註冊</a></li>\n",
       "<div class=\"offcanvas-wrapper\" id=\"\">\n",
       "<div class=\"page-title\">\n",
       "<div class=\"container\">\n",
       "<div class=\"column\">\n",
       "<h1>輕小說</h1>\n",
       "</div>\n",
       "<div class=\"column\">\n",
       "<ul class=\"breadcrumbs\">\n",
       "<li><a href=\"/\">Home</a></li>\n",
       "<li class=\"slash\"> / </li>\n",
       "<li>輕小說</li>\n",
       "</ul>\n",
       "</div>\n",
       "</div>\n",
       "</div>\n",
       "<section class=\"container\">\n",
       "<div class=\"row\">\n",
       "<div class=\"col-xl-9 col-lg-8 p-r-30\">\n",
       "<div class=\"row mb-3\">\n",
       "<div class=\"col-md-3\">\n",
       "<div class=\"product-gallery text-center mb-3\">\n",
       "<a href=\"https://i.loli.net/2021/07/30/Ih9RzSaJVxt214W.jpg\" target=\"_blank\"><img alt=\"嘆息的亡靈想引退\" src=\"https://i.loli.net/2021/07/30/Ih9RzSaJVxt214W.jpg\"/></a>\n",
       "</div>\n",
       "<div class=\"text-center\">\n",
       "<div class=\"d-inline align-baseline display-3 mr-1\">4.9</div>\n",
       "<div class=\"d-inline align-baseline text-sm text-warning mr-1\">\n",
       "<div class=\"rating-stars\">\n",
       "<i class=\"icon-star-s filled\"></i><i class=\"icon-star-s filled\"></i><i class=\"icon-star-s filled\"></i><i class=\"icon-star-s filled\"></i><i class=\"icon-star-s\"></i> </div>\n",
       "</div>\n",
       "<a class=\"btn btn-secondary btn-block btn-load-modal-data\" data-path=\"/review/1557379934\" data-target=\"allReview\" href=\"#\">最新評論</a>\n",
       "</div>\n",
       "</div>\n",
       "<div class=\"col-md-9 book-detail\">\n",
       "<span class=\"text-muted align-middle\">\n",
       "<label class=\"mr-3\"><i class=\"icon-eye\"></i> <span id=\"vtimes\">1413661</span></label>\n",
       "<label><i class=\"icon-heart\"></i> <span id=\"favorite\">4545</span></label>\n",
       "</span>\n",
       "<h2 class=\"p-t-10 text-normal\">嘆息的亡靈想引退</h2>\n",
       "<ul class=\"list-unstyled mb-2 book-detail\">\n",
       "<li><strong>類型:</strong> 日輕</li>\n",
       "<li><strong>作者:</strong> <a href=\"/tags/槻影/\">槻影</a></li>\n",
       "<li><strong>台版書名:</strong> </li>\n",
       "<li><strong>其他書名:</strong> 嘆きの亡霊は引退したい</li>\n",
       "<li><strong>Web生肉:</strong> <a href=\"https://ncode.syosetu.com/n6093en/\" target=\"_blank\">https://ncode.syosetu.com/n6093en/</a></li>\n",
       "<li><strong>文庫版:</strong> <a href=\"https://gcnovels.jp/nageki/\" target=\"_blank\">https://gcnovels.jp/nageki/</a></li>\n",
       "<li><strong>更新日期:</strong> 2021-07-30</li> </ul>\n",
       "<div class=\"row out-link\">\n",
       "<div class=\"col-md-3 col-xs-4 mt-2\">\n",
       "<a href=\"https://tieba.baidu.com/f?kw=叹息的亡灵想要引退\" target=\"_blank\">百度貼吧</a>\n",
       "</div>\n",
       "<div class=\"col-md-3 col-xs-4 mt-2\">\n",
       "<a href=\"https://www.lightnovel.us/detail/1033916\" target=\"_blank\">輕之國度</a>\n",
       "</div>\n",
       "<div class=\"col-md-3 col-xs-4 mt-2\">\n",
       "<a href=\"https://www.manhuagui.com/comic/31876/\" target=\"_blank\">線上漫畫</a>\n",
       "</div>\n",
       "<div class=\"col-md-3 col-xs-4 mt-1\">\n",
       "<a href=\"https://comic-walker.com/contents/detail/KDCW_AM00000016010000_68/\" target=\"_blank\">生肉漫畫</a>\n",
       "</div>\n",
       "</div>\n",
       "<hr class=\"mb-3 mt-3\"/>\n",
       "<div class=\"d-flex flex-wrap justify-content-between\">\n",
       "<div class=\"sp-buttons mt-2 mb-2\">\n",
       "<button class=\"btn btn-danger m-b-10 btn-memfirst\" data-id=\"1557379934\"><i class=\"icon-heart\"></i> <span>收藏</span></button>\n",
       "<a class=\"btn btn-info m-b-10 btn-forum\" href=\"/forum/1584680829/1557379934/\">\n",
       "<i class=\"icon-link\"></i> 前往論壇\n",
       "\n",
       "</a> <a class=\"btn btn-success m-b-10 btn-forum\" href=\"/forum/1557379934/add.html\"><i class=\"icon-pen-tool\"></i> 發帖</a> </div>\n",
       "</div>\n",
       "</div>\n",
       "</div>\n",
       "<section class=\"widget widget-tags hidden-lg-up mt-30\">\n",
       "<h3 class=\"widget-title\">內容標籤</h3>\n",
       "<a class=\"tag\" href=\"/tags/冒險/\">冒險</a><a class=\"tag\" href=\"/tags/獵人/\"> 獵人</a><a class=\"tag\" href=\"/tags/喜劇/\"> 喜劇</a><a class=\"tag\" href=\"/tags/誤會系/\"> 誤會系</a> </section>\n",
       "<div>\n",
       "<script async=\"\" src=\"https://pagead2.googlesyndication.com/pagead/js/adsbygoogle.js\"></script>\n",
       "<ins class=\"adsbygoogle\" data-ad-client=\"ca-pub-8867758861617561\" data-ad-format=\"auto\" data-ad-slot=\"1445673685\" data-full-width-responsive=\"true\" style=\"display:block\"></ins>\n",
       "<script>(adsbygoogle = window.adsbygoogle || []).push({});</script>\n",
       "</div>\n",
       "<div class=\"bg-secondary p-20 margin-top-1x\" id=\"details\">\n",
       "<div class=\"row\">\n",
       "<div class=\"col-md-12\">\n",
       "<div class=\"description\"><p>嘆息的亡靈想引退　〜最弱獵人的英雄之夢〜【Web版】　　作者：槻影<br/>（嘆きの亡霊は引退したい　〜最弱ハンターは英雄の夢を見る〜【Web版】）</p><p>ꕥ--------------------</p><p>存在於世界各地的寶物殿和沉睡在那裡並寄宿著特殊力量的寶具。財富、名譽，以及力量。這是追求榮耀且不顧危險探索寶物殿的寶物獵人們大放異彩的時代。</p><p>與兒時玩伴們一起作為多年來的夢想並成為了獵人的克萊伊，在最初的探索中注意到六個人之中唯獨自己沒有任何才能的事實。</p><p>然而，這不過是冒險的開始。</p><p> </p><p>「已經不行了。這麼危險的職業真心不想幹了。感覺要吐了。」</p><p>「哦，明白了。也就是說，只要我們變強，連你的份也一起戰鬥就好了吧，作為阻礙正好！」</p><p>「別擔心，克萊伊醬。我們會好好保護克萊伊醬的。」</p><p>「啊，STOP。踩到那裡的話，會灰飛煙滅的。小心點，隊長？」</p><p> </p><p>在強得一塌糊塗的兒時玩伴們的守護下，成為後輩和其他獵人所仰賴的對象，追求的是英雄和強力的寶具。</p><p>究竟克萊伊能否圓滿地從獵人引退呢！？</p><p> </p><p>※是誤會系喜劇的說。</p><p>--------------------ꕥ</p><p>↬章節編號於原文連載時就有兩篇173和沒有202，為方便對照原文所以不另做調整。<br/>↬第七部的翻譯正在陸續修改翻譯不是很完整的第一部，8/8修到20話，新讀者21-23話若有翻譯上的問題請先靜待。修改前後人名翻譯不同請見諒。</p><p>☄書籍版「嘆きの亡霊は引退したい～最弱ハンターによる最強パーティ育成術～ ７」日本發售日：2021/8/30。</p><p><span style=\"color: rgb(226, 80, 65);\">☄ESJ站方公告：本作預計下架日期 2021-08-21，若因版權方告知需即時下架則不另行通知。</span></p></div>\n",
       "</div>\n",
       "</div>\n",
       "</div>\n",
       "<div class=\"card border-default hidden-lg-up mt-30\">\n",
       "<div class=\"card-body\">\n",
       "<div class=\"pt-3\">\n",
       "<label class=\"text-medium text-sm\">5 分 <span class=\"text-muted\">- 118</span></label>\n",
       "<div class=\"progress margin-bottom-1x\">\n",
       "<div aria-valuemax=\"100\" aria-valuemin=\"0\" aria-valuenow=\"95\" class=\"progress-bar bg-warning\" role=\"progressbar\" style=\"width: 95%; height: 2px;\"></div>\n",
       "</div>\n",
       "<label class=\"text-medium text-sm\">4 分 <span class=\"text-muted\">- 2</span></label>\n",
       "<div class=\"progress margin-bottom-1x\">\n",
       "<div aria-valuemax=\"100\" aria-valuemin=\"0\" aria-valuenow=\"1\" class=\"progress-bar bg-warning\" role=\"progressbar\" style=\"width: 1%; height: 2px;\"></div>\n",
       "</div>\n",
       "<label class=\"text-medium text-sm\">3 分 <span class=\"text-muted\">- 1</span></label>\n",
       "<div class=\"progress margin-bottom-1x\">\n",
       "<div aria-valuemax=\"100\" aria-valuemin=\"0\" aria-valuenow=\"0\" class=\"progress-bar bg-warning\" role=\"progressbar\" style=\"width: 0%; height: 2px;\"></div>\n",
       "</div>\n",
       "<label class=\"text-medium text-sm\">2 分 <span class=\"text-muted\">- 1</span></label>\n",
       "<div class=\"progress margin-bottom-1x\">\n",
       "<div aria-valuemax=\"100\" aria-valuemin=\"0\" aria-valuenow=\"0\" class=\"progress-bar bg-warning\" role=\"progressbar\" style=\"width: 0%; height: 2px;\"></div>\n",
       "</div>\n",
       "<label class=\"text-medium text-sm\">1 分 <span class=\"text-muted\">- 1</span></label>\n",
       "<div class=\"progress margin-bottom-1x\">\n",
       "<div aria-valuemax=\"100\" aria-valuemin=\"0\" aria-valuenow=\"0\" class=\"progress-bar bg-warning\" role=\"progressbar\" style=\"width: 0%; height: 2px;\"></div>\n",
       "</div>\n",
       "</div>\n",
       "</div>\n",
       "</div>\n",
       "<div class=\"padding-top-1x\">\n",
       "<div class=\"row\">\n",
       "</div>\n",
       "</div>\n",
       "<div class=\"row padding-top-1x mb-3\">\n",
       "<div class=\"col-lg-12\">\n",
       "<ul class=\"nav nav-tabs\" role=\"tablist\">\n",
       "<li class=\"nav-item\"><a aria-selected=\"true\" class=\"nav-link active\" data-toggle=\"tab\" href=\"#integration\" role=\"tab\">整合</a></li>\n",
       "<li class=\"nav-item\"><a aria-selected=\"true\" class=\"nav-link\" data-toggle=\"tab\" href=\"#illustration\" role=\"tab\">插圖</a></li>\n",
       "</ul>\n",
       "<div class=\"tab-content\">\n",
       "<div class=\"tab-pane fade active show\" id=\"integration\" role=\"tabpanel\">\n",
       "<div class=\"sp-buttons mb-3\">\n",
       "<button class=\"btn btn-secondary btn-sort\" data-sort=\"1\"><i class=\"icon-arrow-down\"></i> 正序</button>\n",
       "</div>\n",
       "<div id=\"chapterList\"><p class=\"non\">第一部</p>\n",
       "<a data-title=\"1 成員招募 https://www.esjzone.cc/forum/1557379934/79352.html\" href=\"https://www.esjzone.cc/forum/1557379934/79352.html\" target=\"_blank\"><p>1 成員招募 </p></a>\n",
       "<a data-title=\"2 成員招募② https://www.esjzone.cc/forum/1557379934/79353.html\" href=\"https://www.esjzone.cc/forum/1557379934/79353.html\" target=\"_blank\"><p>2 成員招募② </p></a>\n",
       "<a data-title=\"3 成員招募③ https://www.esjzone.cc/forum/1557379934/79354.html\" href=\"https://www.esjzone.cc/forum/1557379934/79354.html\" target=\"_blank\"><p>3 成員招募③ </p></a>\n",
       "<a data-title=\"4 成員招募④ https://www.esjzone.cc/forum/1557379934/79355.html\" href=\"https://www.esjzone.cc/forum/1557379934/79355.html\" target=\"_blank\"><p>4 成員招募④ </p></a>\n",
       "<a data-title=\"5 帝都 https://www.esjzone.cc/forum/1557379934/79356.html\" href=\"https://www.esjzone.cc/forum/1557379934/79356.html\" target=\"_blank\"></a></div></div></div></div></div></div></div></section></div></body></html>"
      ]
     },
     "execution_count": 4,
     "metadata": {},
     "output_type": "execute_result"
    }
   ],
   "source": [
    "r=requests.get(url)\n",
    "r.encoding='utf-8'\n",
    "soup = BeautifulSoup(r.text[10000:18000])\n",
    "soup"
   ]
  },
  {
   "cell_type": "markdown",
   "metadata": {},
   "source": [
    "As can be seen, the file contains too much information. As a result, I only print out string from 10000 to 18000 to show the target that we are going to extract.<br/>\n",
    "在上面的soup檔案裡我只印出了部分對我們之後備份章節時有意義的段落，待會的目標就是把這些章節對應的URL都找出來後去對應的章節頁面備份翻譯文章。"
   ]
  },
  {
   "cell_type": "markdown",
   "metadata": {},
   "source": [
    "# Create a folder named by the novel title"
   ]
  },
  {
   "cell_type": "markdown",
   "metadata": {},
   "source": [
    "Make a folder if the folder does not exist.<br/>\n",
    "如果ESJZone下沒有以該小說名為名的資料夾的話，在其下面建立一個以該小說名命名的資料夾。"
   ]
  },
  {
   "cell_type": "code",
   "execution_count": 5,
   "metadata": {},
   "outputs": [],
   "source": [
    "novel_dict = soup.find('div', attrs={'class': 'product-gallery text-center mb-3'})\n",
    "novel_title = novel_dict.find('img', alt=True)['alt']\n",
    "novel_title=''.join(x for x in novel_title if x not in '\\/:*?<>|')\n",
    "\n",
    "save_dir='./ESJZone/{}/'.format(novel_title)\n",
    "if not os.path.exists(save_dir):\n",
    "    os.mkdir(save_dir)"
   ]
  },
  {
   "cell_type": "markdown",
   "metadata": {},
   "source": [
    "Verify this is the novel that we are going to download.<br/>\n",
    "檢查是否為我們欲下載的小說名。"
   ]
  },
  {
   "cell_type": "code",
   "execution_count": 6,
   "metadata": {},
   "outputs": [
    {
     "name": "stdout",
     "output_type": "stream",
     "text": [
      "嘆息的亡靈想引退\n"
     ]
    }
   ],
   "source": [
    "print(novel_title)"
   ]
  },
  {
   "cell_type": "markdown",
   "metadata": {},
   "source": [
    "Find the section with all chapters.<br/>\n",
    "以find找到soup中div下的id=\"chapterList\"的資料，這批資料是目錄頁面下各章節的標題以及對應的URL。"
   ]
  },
  {
   "cell_type": "code",
   "execution_count": 7,
   "metadata": {},
   "outputs": [
    {
     "data": {
      "text/plain": [
       "<div id=\"chapterList\"><p class=\"non\">第一部</p>\n",
       "<a data-title=\"1 成員招募 https://www.esjzone.cc/forum/1557379934/79352.html\" href=\"https://www.esjzone.cc/forum/1557379934/79352.html\" target=\"_blank\"><p>1 成員招募 </p></a>\n",
       "<a data-title=\"2 成員招募② https://www.esjzone.cc/forum/1557379934/79353.html\" href=\"https://www.esjzone.cc/forum/1557379934/79353.html\" target=\"_blank\"><p>2 成員招募② </p></a>\n",
       "<a data-title=\"3 成員招募③ https://www.esjzone.cc/forum/1557379934/79354.html\" href=\"https://www.esjzone.cc/forum/1557379934/79354.html\" target=\"_blank\"><p>3 成員招募③ </p></a>\n",
       "<a data-title=\"4 成員招募④ https://www.esjzone.cc/forum/1557379934/79355.html\" href=\"https://www.esjzone.cc/forum/1557379934/79355.html\" target=\"_blank\"><p>4 成員招募④ </p></a>\n",
       "<a data-title=\"5 帝都 https://www.esjzone.cc/forum/1557379934/79356.html\" href=\"https://www.esjzone.cc/forum/1557379934/79356.html\" target=\"_blank\"></a></div>"
      ]
     },
     "execution_count": 7,
     "metadata": {},
     "output_type": "execute_result"
    }
   ],
   "source": [
    "content = soup.find('div', attrs={'id': 'chapterList'})\n",
    "content"
   ]
  },
  {
   "cell_type": "markdown",
   "metadata": {},
   "source": [
    "Extract the links from the chapter list, and store them as a python list called \"links\". We also store all the chapter names into a list called \"chapters\". We will later use them to name our article html files.<br/>\n",
    "再接著從個章節標題對應的代碼中取出用章節翻譯文章的網址，並將網址放入一個python list \"links\"中。這個可以以find_all('a')簡單達成；同時將章節標題存入另一個python list \"chapters\"。待會可以將這個標題用來命名我們抓出的文章html檔。"
   ]
  },
  {
   "cell_type": "code",
   "execution_count": 8,
   "metadata": {},
   "outputs": [],
   "source": [
    "links = content.find_all('a')\n",
    "chapters = content.find_all('p', attrs={'class': None})"
   ]
  },
  {
   "cell_type": "markdown",
   "metadata": {},
   "source": [
    "# Loop over links and download the title and article in the link\n",
    "### 迴圈所有存在links中的URL，將對應URL中的文章備份並存於以該章節名命名的html檔中。"
   ]
  },
  {
   "cell_type": "markdown",
   "metadata": {},
   "source": [
    "If the link is not to ESJ, jump over the links.<br/>\n",
    "有時ESJ的前幾個link是百度或twitter或不知道哪裡的URL，這時就簡單的將其跳過即可。如果前三個都是這樣的檔案，設num=3。<br/>\n",
    "報錯出現list out of range通常就是這導致的。"
   ]
  },
  {
   "cell_type": "code",
   "execution_count": 9,
   "metadata": {},
   "outputs": [
    {
     "name": "stderr",
     "output_type": "stream",
     "text": [
      "100%|██████████| 289/289 [02:14<00:00,  2.16it/s]\n"
     ]
    }
   ],
   "source": [
    "num=0\n",
    "hrefs = []\n",
    "hashmap={}\n",
    "\n",
    "for i, link_i in enumerate(tqdm(links)):\n",
    "\n",
    "    if i < num:\n",
    "        continue\n",
    "    url = link_i.get('href')\n",
    "    chapter_name0 = chapters[i].get_text()\n",
    "    chapter_name0 = ''.join(x for x in chapter_name0 if x not in '\\/:*?<>|')\n",
    "    if chapter_name0 in hashmap:\n",
    "        chapter_name=chapter_name0+'-{}'.format(i)\n",
    "        hashmap[chapter_name0]+=1\n",
    "    else:\n",
    "        chapter_name=chapter_name0\n",
    "        hashmap[chapter_name0]=1\n",
    "        \n",
    "    extract_html(url, save_dir, chapter_name)\n",
    "\n"
   ]
  },
  {
   "cell_type": "code",
   "execution_count": null,
   "metadata": {},
   "outputs": [],
   "source": []
  },
  {
   "cell_type": "code",
   "execution_count": null,
   "metadata": {},
   "outputs": [],
   "source": []
  }
 ],
 "metadata": {
  "kernelspec": {
   "display_name": "Python 3",
   "language": "python",
   "name": "python3"
  },
  "language_info": {
   "codemirror_mode": {
    "name": "ipython",
    "version": 3
   },
   "file_extension": ".py",
   "mimetype": "text/x-python",
   "name": "python",
   "nbconvert_exporter": "python",
   "pygments_lexer": "ipython3",
   "version": "3.7.3"
  }
 },
 "nbformat": 4,
 "nbformat_minor": 2
}
